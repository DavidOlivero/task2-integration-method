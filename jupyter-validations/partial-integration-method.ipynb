{
 "cells": [
  {
   "cell_type": "code",
   "execution_count": 1,
   "id": "5c13b344-e761-4aaa-96d8-3e75b2738ccf",
   "metadata": {},
   "outputs": [],
   "source": [
    "from sympy import init_session"
   ]
  },
  {
   "cell_type": "code",
   "execution_count": 3,
   "id": "b94d0d85-57b6-41a4-8716-d7e04d150f45",
   "metadata": {},
   "outputs": [
    {
     "name": "stdout",
     "output_type": "stream",
     "text": [
      "IPython console for SymPy 1.12 (Python 3.12.4-64-bit) (ground types: python)\n",
      "\n",
      "These commands were executed:\n",
      ">>> from sympy import *\n",
      ">>> x, y, z, t = symbols('x y z t')\n",
      ">>> k, m, n = symbols('k m n', integer=True)\n",
      ">>> f, g, h = symbols('f g h', cls=Function)\n",
      ">>> init_printing()\n",
      "\n",
      "Documentation can be found at https://docs.sympy.org/1.12/\n",
      "\n"
     ]
    }
   ],
   "source": [
    "init_session(use_latex=True)"
   ]
  },
  {
   "cell_type": "code",
   "execution_count": 5,
   "id": "54051e17-9af9-4631-b2f3-761ebe0ff5c0",
   "metadata": {},
   "outputs": [],
   "source": [
    "x = symbols('x')"
   ]
  },
  {
   "cell_type": "code",
   "execution_count": 57,
   "id": "98520a6d-082c-4069-b28f-61bb9c709547",
   "metadata": {},
   "outputs": [],
   "source": [
    "fraction = (3*x+1)/(x*(x+3)*(x-2))"
   ]
  },
  {
   "cell_type": "code",
   "execution_count": 59,
   "id": "b4031fe0-8b88-4849-aad6-5db0dbef8c3b",
   "metadata": {},
   "outputs": [
    {
     "data": {
      "image/png": "[encoded data removed]",
      "text/latex": [
       "$\\displaystyle - \\frac{\\log{\\left(x \\right)}}{6} + \\frac{7 \\log{\\left(x - 2 \\right)}}{10} - \\frac{8 \\log{\\left(x + 3 \\right)}}{15}$"
      ],
      "text/plain": [
       "  log(x)   7⋅log(x - 2)   8⋅log(x + 3)\n",
       "- ────── + ──────────── - ────────────\n",
       "    6           10             15     "
      ]
     },
     "execution_count": 59,
     "metadata": {},
     "output_type": "execute_result"
    }
   ],
   "source": [
    "integrate(fraction, x)"
   ]
  }
 ],
 "metadata": {
  "kernelspec": {
   "display_name": "Python 3 (ipykernel)",
   "language": "python",
   "name": "python3"
  },
  "language_info": {
   "codemirror_mode": {
    "name": "ipython",
    "version": 3
   },
   "file_extension": ".py",
   "mimetype": "text/x-python",
   "name": "python",
   "nbconvert_exporter": "python",
   "pygments_lexer": "ipython3",
   "version": "3.12.4"
  }
 },
 "nbformat": 4,
 "nbformat_minor": 5
}
