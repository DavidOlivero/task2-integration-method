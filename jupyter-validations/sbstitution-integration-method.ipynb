{
 "cells": [
  {
   "cell_type": "markdown",
   "id": "617a4b18-8f51-466f-9612-31e3f59e38f8",
   "metadata": {},
   "source": [
    "### Ejercicio N° 1, integración por sustitución"
   ]
  },
  {
   "cell_type": "code",
   "execution_count": 5,
   "id": "37747b34-b687-4aae-9350-672767a50b6b",
   "metadata": {},
   "outputs": [],
   "source": [
    "from sympy import init_session"
   ]
  },
  {
   "cell_type": "code",
   "execution_count": 9,
   "id": "cd2ccb82-4b83-4ab4-b923-9315de0a2573",
   "metadata": {},
   "outputs": [
    {
     "name": "stdout",
     "output_type": "stream",
     "text": [
      "IPython console for SymPy 1.12 (Python 3.12.4-64-bit) (ground types: python)\n",
      "\n",
      "These commands were executed:\n",
      ">>> from sympy import *\n",
      ">>> x, y, z, t = symbols('x y z t')\n",
      ">>> k, m, n = symbols('k m n', integer=True)\n",
      ">>> f, g, h = symbols('f g h', cls=Function)\n",
      ">>> init_printing()\n",
      "\n",
      "Documentation can be found at https://docs.sympy.org/1.12/\n",
      "\n"
     ]
    }
   ],
   "source": [
    "init_session(use_latex=True)"
   ]
  },
  {
   "cell_type": "code",
   "execution_count": 11,
   "id": "47807c4c-fd22-477a-a574-280adeee1c9c",
   "metadata": {},
   "outputs": [],
   "source": [
    "z = symbols('z')\n",
    "u = symbols('u')"
   ]
  },
  {
   "cell_type": "code",
   "execution_count": 31,
   "id": "04cfcfed-1dd0-4f95-b1ea-896867a6ead4",
   "metadata": {},
   "outputs": [
    {
     "data": {
      "image/png": "[encoded data removed]",
      "text/latex": [
       "$\\displaystyle \\frac{2 z}{z^{2} - 2}$"
      ],
      "text/plain": [
       " 2⋅z  \n",
       "──────\n",
       " 2    \n",
       "z  - 2"
      ]
     },
     "execution_count": 31,
     "metadata": {},
     "output_type": "execute_result"
    }
   ],
   "source": [
    "(2*z)/((z**2)-2)"
   ]
  },
  {
   "cell_type": "code",
   "execution_count": 29,
   "id": "ed1055d8-e124-40b3-9dce-50a23cbcc628",
   "metadata": {},
   "outputs": [
    {
     "data": {
      "image/png": "[encoded data removed]",
      "text/latex": [
       "$\\displaystyle \\log{\\left(z^{2} - 2 \\right)}$"
      ],
      "text/plain": [
       "   ⎛ 2    ⎞\n",
       "log⎝z  - 2⎠"
      ]
     },
     "execution_count": 29,
     "metadata": {},
     "output_type": "execute_result"
    }
   ],
   "source": [
    "result_u = integrate(1/u, u)\n",
    "result_u.subs(u, z**2 - 2)"
   ]
  }
 ],
 "metadata": {
  "kernelspec": {
   "display_name": "Python 3 (ipykernel)",
   "language": "python",
   "name": "python3"
  },
  "language_info": {
   "codemirror_mode": {
    "name": "ipython",
    "version": 3
   },
   "file_extension": ".py",
   "mimetype": "text/x-python",
   "name": "python",
   "nbconvert_exporter": "python",
   "pygments_lexer": "ipython3",
   "version": "3.12.4"
  }
 },
 "nbformat": 4,
 "nbformat_minor": 5
}
