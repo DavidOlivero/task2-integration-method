{
 "cells": [
  {
   "cell_type": "code",
   "execution_count": 1,
   "id": "d19ae15a-62d4-4364-bf86-5178844969c1",
   "metadata": {},
   "outputs": [],
   "source": [
    "from sympy import init_session"
   ]
  },
  {
   "cell_type": "code",
   "execution_count": 3,
   "id": "3cf8d731-8b60-4d45-b16e-dec55d88cb92",
   "metadata": {},
   "outputs": [
    {
     "name": "stdout",
     "output_type": "stream",
     "text": [
      "IPython console for SymPy 1.12 (Python 3.12.4-64-bit) (ground types: python)\n",
      "\n",
      "These commands were executed:\n",
      ">>> from sympy import *\n",
      ">>> x, y, z, t = symbols('x y z t')\n",
      ">>> k, m, n = symbols('k m n', integer=True)\n",
      ">>> f, g, h = symbols('f g h', cls=Function)\n",
      ">>> init_printing()\n",
      "\n",
      "Documentation can be found at https://docs.sympy.org/1.12/\n",
      "\n"
     ]
    }
   ],
   "source": [
    "init_session(use_latex=True)"
   ]
  },
  {
   "cell_type": "code",
   "execution_count": 5,
   "id": "25d8abb5-8c39-4f69-814a-7412e3d337d7",
   "metadata": {},
   "outputs": [],
   "source": [
    "x = symbols('x')"
   ]
  },
  {
   "cell_type": "code",
   "execution_count": 9,
   "id": "49a09cbe-0f48-4de3-8a3f-b7b901cd2319",
   "metadata": {},
   "outputs": [],
   "source": [
    "function = (4 * x**2) / sqrt(529 - 4 * x**2)"
   ]
  },
  {
   "cell_type": "code",
   "execution_count": 11,
   "id": "d85787d3-c47b-4ac6-b429-906e8c553a26",
   "metadata": {},
   "outputs": [
    {
     "data": {
      "image/png": "[encoded data removed]",
      "text/latex": [
       "$\\displaystyle - \\frac{x \\sqrt{529 - 4 x^{2}}}{2} + \\frac{529 \\operatorname{asin}{\\left(\\frac{2 x}{23} \\right)}}{4}$"
      ],
      "text/plain": [
       "       ____________           ⎛2⋅x⎞\n",
       "      ╱          2    529⋅asin⎜───⎟\n",
       "  x⋅╲╱  529 - 4⋅x             ⎝ 23⎠\n",
       "- ───────────────── + ─────────────\n",
       "          2                 4      "
      ]
     },
     "execution_count": 11,
     "metadata": {},
     "output_type": "execute_result"
    }
   ],
   "source": [
    "integrate(function, x)"
   ]
  }
 ],
 "metadata": {
  "kernelspec": {
   "display_name": "Python 3 (ipykernel)",
   "language": "python",
   "name": "python3"
  },
  "language_info": {
   "codemirror_mode": {
    "name": "ipython",
    "version": 3
   },
   "file_extension": ".py",
   "mimetype": "text/x-python",
   "name": "python",
   "nbconvert_exporter": "python",
   "pygments_lexer": "ipython3",
   "version": "3.12.4"
  }
 },
 "nbformat": 4,
 "nbformat_minor": 5
}
