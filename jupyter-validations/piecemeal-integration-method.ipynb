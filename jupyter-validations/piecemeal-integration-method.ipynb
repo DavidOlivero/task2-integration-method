{
 "cells": [
  {
   "cell_type": "markdown",
   "id": "588ec2ce-e7b6-4efa-a854-9173845f47fc",
   "metadata": {},
   "source": [
    "### Método de integración por partes"
   ]
  },
  {
   "cell_type": "code",
   "execution_count": 3,
   "id": "02cc4fc1-7ffb-4bb4-a405-08c2842a997c",
   "metadata": {},
   "outputs": [],
   "source": [
    "from sympy import init_session"
   ]
  },
  {
   "cell_type": "code",
   "execution_count": 5,
   "id": "dcde8d83-3d20-4c02-86ed-ac6d2965bc4b",
   "metadata": {},
   "outputs": [
    {
     "name": "stdout",
     "output_type": "stream",
     "text": [
      "IPython console for SymPy 1.12 (Python 3.12.4-64-bit) (ground types: python)\n",
      "\n",
      "These commands were executed:\n",
      ">>> from sympy import *\n",
      ">>> x, y, z, t = symbols('x y z t')\n",
      ">>> k, m, n = symbols('k m n', integer=True)\n",
      ">>> f, g, h = symbols('f g h', cls=Function)\n",
      ">>> init_printing()\n",
      "\n",
      "Documentation can be found at https://docs.sympy.org/1.12/\n",
      "\n"
     ]
    }
   ],
   "source": [
    "init_session(use_latex=True)"
   ]
  },
  {
   "cell_type": "code",
   "execution_count": 9,
   "id": "45f18722-4430-4577-9734-009e61288453",
   "metadata": {},
   "outputs": [],
   "source": [
    "z = symbols('z')"
   ]
  },
  {
   "cell_type": "code",
   "execution_count": 11,
   "id": "6848f750-9193-400c-99b9-75929fdad9e4",
   "metadata": {},
   "outputs": [],
   "source": [
    "# First picemeal -> uv\n",
    "u = z**3\n",
    "v = exp(z)\n",
    "uv = u*v"
   ]
  },
  {
   "cell_type": "code",
   "execution_count": 27,
   "id": "a2829c64-7a87-4853-a1ce-e7251a18a9d4",
   "metadata": {},
   "outputs": [
    {
     "data": {
      "image/png": "[encoded data removed]",
      "text/latex": [
       "$\\displaystyle 3 z^{2} e^{z}$"
      ],
      "text/plain": [
       "   2  z\n",
       "3⋅z ⋅ℯ "
      ]
     },
     "execution_count": 27,
     "metadata": {},
     "output_type": "execute_result"
    }
   ],
   "source": [
    "# Second picemeal -> ∫vdu\n",
    "du = 3*z**2\n",
    "vdu_integral = integrate(v*du, z)\n",
    "vdu_integral\n",
    "v*du"
   ]
  },
  {
   "cell_type": "code",
   "execution_count": 21,
   "id": "30cc7769-b6ef-4f07-b7a0-99ceb202f829",
   "metadata": {},
   "outputs": [
    {
     "data": {
      "image/png": "[encoded data removed]",
      "text/latex": [
       "$\\displaystyle z^{3} e^{z} - \\left(3 z^{2} - 6 z + 6\\right) e^{z}$"
      ],
      "text/plain": [
       " 3  z   ⎛   2          ⎞  z\n",
       "z ⋅ℯ  - ⎝3⋅z  - 6⋅z + 6⎠⋅ℯ "
      ]
     },
     "execution_count": 21,
     "metadata": {},
     "output_type": "execute_result"
    }
   ],
   "source": [
    "# Result\n",
    "uv - vdu_integral"
   ]
  }
 ],
 "metadata": {
  "kernelspec": {
   "display_name": "Python 3 (ipykernel)",
   "language": "python",
   "name": "python3"
  },
  "language_info": {
   "codemirror_mode": {
    "name": "ipython",
    "version": 3
   },
   "file_extension": ".py",
   "mimetype": "text/x-python",
   "name": "python",
   "nbconvert_exporter": "python",
   "pygments_lexer": "ipython3",
   "version": "3.12.4"
  }
 },
 "nbformat": 4,
 "nbformat_minor": 5
}
